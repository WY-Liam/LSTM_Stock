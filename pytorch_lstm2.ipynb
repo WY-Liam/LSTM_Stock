{
 "cells": [
  {
   "cell_type": "code",
   "execution_count": 1,
   "metadata": {},
   "outputs": [],
   "source": [
    "import torch as t\n",
    "\n",
    "import torch.nn as nn\n",
    "\n",
    "import numpy as np\n",
    "\n",
    "import pandas as pd\n",
    "\n",
    "import matplotlib.pyplot as plt\n",
    "\n",
    "import torch.nn.functional as F\n",
    "\n",
    "from sklearn.preprocessing import MinMaxScaler\n",
    "\n",
    "from sklearn.model_selection import train_test_split"
   ]
  },
  {
   "cell_type": "code",
   "execution_count": 2,
   "metadata": {},
   "outputs": [
    {
     "data": {
      "text/html": [
       "<div>\n",
       "<style scoped>\n",
       "    .dataframe tbody tr th:only-of-type {\n",
       "        vertical-align: middle;\n",
       "    }\n",
       "\n",
       "    .dataframe tbody tr th {\n",
       "        vertical-align: top;\n",
       "    }\n",
       "\n",
       "    .dataframe thead th {\n",
       "        text-align: right;\n",
       "    }\n",
       "</style>\n",
       "<table border=\"1\" class=\"dataframe\">\n",
       "  <thead>\n",
       "    <tr style=\"text-align: right;\">\n",
       "      <th></th>\n",
       "      <th>close</th>\n",
       "    </tr>\n",
       "    <tr>\n",
       "      <th>date</th>\n",
       "      <th></th>\n",
       "    </tr>\n",
       "  </thead>\n",
       "  <tbody>\n",
       "    <tr>\n",
       "      <th>2010-01-04</th>\n",
       "      <td>313.688694</td>\n",
       "    </tr>\n",
       "    <tr>\n",
       "      <th>2010-01-05</th>\n",
       "      <td>312.307316</td>\n",
       "    </tr>\n",
       "    <tr>\n",
       "      <th>2010-01-06</th>\n",
       "      <td>304.434452</td>\n",
       "    </tr>\n",
       "    <tr>\n",
       "      <th>2010-01-07</th>\n",
       "      <td>297.347355</td>\n",
       "    </tr>\n",
       "    <tr>\n",
       "      <th>2010-01-08</th>\n",
       "      <td>301.311314</td>\n",
       "    </tr>\n",
       "  </tbody>\n",
       "</table>\n",
       "</div>"
      ],
      "text/plain": [
       "                 close\n",
       "date                  \n",
       "2010-01-04  313.688694\n",
       "2010-01-05  312.307316\n",
       "2010-01-06  304.434452\n",
       "2010-01-07  297.347355\n",
       "2010-01-08  301.311314"
      ]
     },
     "execution_count": 2,
     "metadata": {},
     "output_type": "execute_result"
    }
   ],
   "source": [
    "df = pd.read_csv('prices-split-adjusted.csv')\n",
    "df = df[df.symbol == 'GOOGL']\n",
    "df.index = df.date\n",
    "\n",
    "df.drop(columns = ['date', 'symbol'], inplace = True)\n",
    "\n",
    "df_target = df[['close']]\n",
    "\n",
    "df_target.head()"
   ]
  },
  {
   "cell_type": "code",
   "execution_count": 4,
   "metadata": {},
   "outputs": [],
   "source": [
    "MMS_x = MinMaxScaler()\n",
    "MMS_y = MinMaxScaler()\n",
    "\n",
    "df = MMS_x.fit_transform(df.values)\n",
    "df_target = MMS_y.fit_transform(df_target.values)"
   ]
  },
  {
   "cell_type": "code",
   "execution_count": 5,
   "metadata": {},
   "outputs": [],
   "source": [
    "df = pd.DataFrame(df, columns = ['open', 'close', 'low', 'high','volume'])\n",
    "df_target = pd.DataFrame(df_target, columns = ['close'])\n",
    "df.drop('close', axis = 1, inplace = True)\n",
    "df['close'] = df_target.close"
   ]
  },
  {
   "cell_type": "code",
   "execution_count": 7,
   "metadata": {},
   "outputs": [],
   "source": [
    "def make_dataset(df, seq_len, train_size = 0.9):\n",
    "    feature = df.shape[1]\n",
    "    x_value = df.values\n",
    "    sequence_len = seq_len + 1\n",
    "    data = []\n",
    "    \n",
    "    for i in range(len(x_value) - sequence_len):\n",
    "        data.append(x_value[i : i + sequence_len])\n",
    "        \n",
    "    data = np.array(data)\n",
    "    train_split = int(round(train_size * data.shape[0]))\n",
    "    \n",
    "    train_data = data[:train_split]\n",
    "    test_data = data[train_split:]\n",
    "    \n",
    "    x_train = train_data[:, :-1]\n",
    "    y_train = train_data[:, -1][:, -1]\n",
    "    \n",
    "    x_test = test_data[:, :-1]\n",
    "    y_test = test_data[:, -1][:, -1]\n",
    "    \n",
    "    x_train = np.reshape(x_train, (x_train.shape[0], x_train.shape[1], feature))\n",
    "    x_test = np.reshape(x_test, (x_test.shape[0], x_test.shape[1], feature))\n",
    "    \n",
    "    return x_train, y_train, x_test, y_test"
   ]
  },
  {
   "cell_type": "code",
   "execution_count": 30,
   "metadata": {},
   "outputs": [],
   "source": [
    "x_train, y_train, x_test, y_test = make_dataset(df, 24)"
   ]
  },
  {
   "cell_type": "code",
   "execution_count": null,
   "metadata": {},
   "outputs": [],
   "source": [
    "<h2>Drop Column</h2>"
   ]
  },
  {
   "cell_type": "code",
   "execution_count": 31,
   "metadata": {},
   "outputs": [],
   "source": [
    "x_train = x_train[:, :, :-1]\n",
    "x_test = x_test[:, :, :-1]"
   ]
  },
  {
   "cell_type": "code",
   "execution_count": 33,
   "metadata": {},
   "outputs": [],
   "source": [
    "batch_size = 1\n",
    "\n",
    "input_size = x_train.shape[2] \n",
    "\n",
    "output_size = 1"
   ]
  },
  {
   "cell_type": "code",
   "execution_count": 34,
   "metadata": {},
   "outputs": [],
   "source": [
    "x_train = x_train.reshape(x_train.shape[0], \n",
    "                          x_train.shape[1], \n",
    "                          1, \n",
    "                          x_train.shape[2])\n",
    "\n",
    "x_test = x_test.reshape(x_test.shape[0],\n",
    "                        x_test.shape[1],\n",
    "                        1,\n",
    "                        x_test.shape[2])"
   ]
  },
  {
   "cell_type": "code",
   "execution_count": 35,
   "metadata": {},
   "outputs": [],
   "source": [
    "x_test = t.tensor(x_test)\n",
    "y_test = t.tensor(y_test)\n",
    "x_train = t.tensor(x_train)\n",
    "y_train = t.tensor(y_train)"
   ]
  },
  {
   "cell_type": "code",
   "execution_count": 36,
   "metadata": {},
   "outputs": [],
   "source": [
    "class LSTM_Model(nn.Module):\n",
    "    def __init__(self, input_size, output_size, n_hidden, n_layer, batch_size):\n",
    "        \n",
    "        super(LSTM_Model, self).__init__()\n",
    "        self.input_size = input_size\n",
    "        self.output_size = output_size\n",
    "        self.n_hidden = n_hidden\n",
    "        self.n_layer = n_layer\n",
    "        self.batch_size = batch_size\n",
    "        \n",
    "        \n",
    "        self.lstm = nn.LSTM(input_size, n_hidden, n_layer)\n",
    "        \n",
    "        \n",
    "        self.linear = nn.Linear(n_hidden, output_size)\n",
    "        \n",
    "    def forward(self, x, hidden):\n",
    "        output, hidden = self.lstm(x, hidden)\n",
    "        \n",
    "        out = output\n",
    "        \n",
    "        out = out.view(len(x), -1)\n",
    "        \n",
    "        out = self.linear(out)\n",
    "        \n",
    "        return out, hidden\n",
    "    \n",
    "    def init_hidden(self, batch_size):\n",
    "        \n",
    "        weight = next(self.parameters()).data\n",
    "        \n",
    "        hidden = (weight.new(self.n_layer,\n",
    "                             batch_size,\n",
    "                             self.n_hidden).zero_().to(device),\n",
    "                  weight.new(self.n_layer,\n",
    "                             batch_size,\n",
    "                             self.n_hidden).zero_().to(device)\n",
    "                 )\n",
    "        \n",
    "        return hidden"
   ]
  },
  {
   "cell_type": "code",
   "execution_count": 38,
   "metadata": {},
   "outputs": [
    {
     "name": "stdout",
     "output_type": "stream",
     "text": [
      "LSTM_Model(\n",
      "  (lstm): LSTM(4, 256)\n",
      "  (linear): Linear(in_features=256, out_features=1, bias=True)\n",
      ")\n"
     ]
    }
   ],
   "source": [
    "n_hidden = 256\n",
    "n_layer = 1\n",
    "lr = 0.001\n",
    "\n",
    "model = LSTM_Model(input_size, output_size, n_hidden, n_layer, batch_size)\n",
    "\n",
    "print(model)"
   ]
  },
  {
   "cell_type": "code",
   "execution_count": 39,
   "metadata": {},
   "outputs": [
    {
     "data": {
      "text/plain": [
       "device(type='cuda')"
      ]
     },
     "execution_count": 39,
     "metadata": {},
     "output_type": "execute_result"
    }
   ],
   "source": [
    "optimizer = t.optim.Adam(model.parameters(), lr = lr)\n",
    "cri = nn.MSELoss()\n",
    "device = t.device(\"cuda\" if t.cuda.is_available() else \"cpu\")\n",
    "\n",
    "device"
   ]
  },
  {
   "cell_type": "code",
   "execution_count": 40,
   "metadata": {},
   "outputs": [],
   "source": [
    "model = model.float()\n",
    "x_train = x_train.float()\n",
    "y_train = y_train.float()\n",
    "x_test = x_test.float()\n",
    "y_test = y_test.float()"
   ]
  },
  {
   "cell_type": "code",
   "execution_count": 41,
   "metadata": {},
   "outputs": [],
   "source": [
    "n_epoch = 40"
   ]
  },
  {
   "cell_type": "code",
   "execution_count": 42,
   "metadata": {},
   "outputs": [
    {
     "name": "stdout",
     "output_type": "stream",
     "text": [
      "Epoch: 0/40\n",
      "Training Loss 0.0070\n",
      "Epoch: 10/40\n",
      "Training Loss 0.0042\n",
      "Epoch: 20/40\n",
      "Training Loss 0.0043\n",
      "Epoch: 30/40\n",
      "Training Loss 0.0037\n"
     ]
    }
   ],
   "source": [
    "model.train()\n",
    "\n",
    "model = model.to(device)\n",
    "\n",
    "train_loss = []\n",
    "mean_train_loss = []\n",
    "x_train_pred = []\n",
    "\n",
    "for Epoch in range(n_epoch):\n",
    "    hidden_cells = model.init_hidden(batch_size)\n",
    "    \n",
    "    for i in range(len(x_train)):\n",
    "        \n",
    "        hidden_cells = tuple([e.data for e in hidden_cells])\n",
    "        \n",
    "        optimizer.zero_grad()\n",
    "        \n",
    "        x = x_train[i]\n",
    "        y = y_train[i]\n",
    "        x = x.to(device)\n",
    "        y = y.to(device)\n",
    "        \n",
    "        \n",
    "        y_pred, hidden_cells = model(x, hidden_cells)\n",
    "        x_train_pred.append(y_pred)\n",
    "        \n",
    "        loss = cri(y_pred[-1], y.unsqueeze(0))\n",
    "        train_loss.append(loss.item())\n",
    "        loss.backward()\n",
    "        \n",
    "        optimizer.step()\n",
    "        \n",
    "        model.train()\n",
    "        mean_loss = np.mean(train_loss)\n",
    "        mean_train_loss.append(mean_loss)\n",
    "        \n",
    "    if Epoch % 10 == 0:\n",
    "        print('Epoch: {}/{}'.format(Epoch, n_epoch))\n",
    "        print('Training Loss {:.4f}'.format(loss.item()))"
   ]
  },
  {
   "cell_type": "code",
   "execution_count": 43,
   "metadata": {},
   "outputs": [],
   "source": [
    "pred = []\n",
    "model.eval()\n",
    "model = model.to(device)\n",
    "\n",
    "hidden_cells = model.init_hidden(batch_size)\n",
    "for i in range(len(x_test)):\n",
    "    \n",
    "    hidden_cells = tuple([e.data for e in hidden_cells])\n",
    "    \n",
    "    x = x_test[i]\n",
    "    y = y_test[i]\n",
    "    x = x.to(device)\n",
    "    y = y.to(device)\n",
    "    \n",
    "    y_pred, hidden_cells = model(x, hidden_cells)\n",
    "    \n",
    "    pred.append(y_pred[-1].item())"
   ]
  },
  {
   "cell_type": "code",
   "execution_count": 44,
   "metadata": {},
   "outputs": [],
   "source": [
    "actual = MMS_y.inverse_transform(y_test.reshape(-1, 1))"
   ]
  },
  {
   "cell_type": "code",
   "execution_count": 45,
   "metadata": {},
   "outputs": [],
   "source": [
    "pred = MMS_y.inverse_transform(np.array(pred).reshape(-1, 1))"
   ]
  },
  {
   "cell_type": "code",
   "execution_count": 46,
   "metadata": {},
   "outputs": [
    {
     "data": {
      "text/plain": [
       "<matplotlib.legend.Legend at 0x175d5d06ec8>"
      ]
     },
     "execution_count": 46,
     "metadata": {},
     "output_type": "execute_result"
    },
    {
     "data": {
      "image/png": "[encoded data removed]",
      "text/plain": [
       "<Figure size 1080x576 with 1 Axes>"
      ]
     },
     "metadata": {
      "needs_background": "light"
     },
     "output_type": "display_data"
    }
   ],
   "source": [
    "plt.figure(figsize = (15, 8))\n",
    "plt.plot(actual, label = 'True')\n",
    "plt.plot(pred, label = 'Prediction')\n",
    "plt.legend()"
   ]
  },
  {
   "cell_type": "code",
   "execution_count": null,
   "metadata": {},
   "outputs": [],
   "source": []
  }
 ],
 "metadata": {
  "kernelspec": {
   "display_name": "Python 3",
   "language": "python",
   "name": "python3"
  },
  "language_info": {
   "codemirror_mode": {
    "name": "ipython",
    "version": 3
   },
   "file_extension": ".py",
   "mimetype": "text/x-python",
   "name": "python",
   "nbconvert_exporter": "python",
   "pygments_lexer": "ipython3",
   "version": "3.7.6"
  }
 },
 "nbformat": 4,
 "nbformat_minor": 4
}
