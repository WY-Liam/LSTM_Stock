{
 "cells": [
  {
   "cell_type": "code",
   "execution_count": 1,
   "id": "seventh-upset",
   "metadata": {},
   "outputs": [],
   "source": [
    "import numpy as np\n",
    "\n",
    "import pandas as pd\n",
    "\n",
    "import sklearn\n",
    "\n",
    "import sklearn.preprocessing\n",
    "\n",
    "from keras.models import Sequential\n",
    "\n",
    "from keras.layers import Dense , BatchNormalization , Dropout , Activation\n",
    "\n",
    "from keras.layers import LSTM , GRU\n",
    "\n",
    "from sklearn.preprocessing import MinMaxScaler\n",
    "\n",
    "from sklearn.metrics import mean_squared_error\n",
    "\n",
    "from keras.optimizers import Adam, SGD, RMSprop\n",
    "\n",
    "from keras.callbacks import ReduceLROnPlateau, ModelCheckpoint, EarlyStopping\n",
    "\n",
    "from keras import losses\n",
    "\n",
    "%matplotlib inline"
   ]
  },
  {
   "cell_type": "code",
   "execution_count": 2,
   "id": "processed-catalog",
   "metadata": {},
   "outputs": [
    {
     "data": {
      "text/html": [
       "<div>\n",
       "<style scoped>\n",
       "    .dataframe tbody tr th:only-of-type {\n",
       "        vertical-align: middle;\n",
       "    }\n",
       "\n",
       "    .dataframe tbody tr th {\n",
       "        vertical-align: top;\n",
       "    }\n",
       "\n",
       "    .dataframe thead th {\n",
       "        text-align: right;\n",
       "    }\n",
       "</style>\n",
       "<table border=\"1\" class=\"dataframe\">\n",
       "  <thead>\n",
       "    <tr style=\"text-align: right;\">\n",
       "      <th></th>\n",
       "      <th>date</th>\n",
       "      <th>symbol</th>\n",
       "      <th>open</th>\n",
       "      <th>close</th>\n",
       "      <th>low</th>\n",
       "      <th>high</th>\n",
       "      <th>volume</th>\n",
       "    </tr>\n",
       "  </thead>\n",
       "  <tbody>\n",
       "    <tr>\n",
       "      <th>0</th>\n",
       "      <td>2016-01-05</td>\n",
       "      <td>WLTW</td>\n",
       "      <td>123.430000</td>\n",
       "      <td>125.839996</td>\n",
       "      <td>122.309998</td>\n",
       "      <td>126.250000</td>\n",
       "      <td>2163600.0</td>\n",
       "    </tr>\n",
       "    <tr>\n",
       "      <th>1</th>\n",
       "      <td>2016-01-06</td>\n",
       "      <td>WLTW</td>\n",
       "      <td>125.239998</td>\n",
       "      <td>119.980003</td>\n",
       "      <td>119.940002</td>\n",
       "      <td>125.540001</td>\n",
       "      <td>2386400.0</td>\n",
       "    </tr>\n",
       "    <tr>\n",
       "      <th>2</th>\n",
       "      <td>2016-01-07</td>\n",
       "      <td>WLTW</td>\n",
       "      <td>116.379997</td>\n",
       "      <td>114.949997</td>\n",
       "      <td>114.930000</td>\n",
       "      <td>119.739998</td>\n",
       "      <td>2489500.0</td>\n",
       "    </tr>\n",
       "    <tr>\n",
       "      <th>3</th>\n",
       "      <td>2016-01-08</td>\n",
       "      <td>WLTW</td>\n",
       "      <td>115.480003</td>\n",
       "      <td>116.620003</td>\n",
       "      <td>113.500000</td>\n",
       "      <td>117.440002</td>\n",
       "      <td>2006300.0</td>\n",
       "    </tr>\n",
       "    <tr>\n",
       "      <th>4</th>\n",
       "      <td>2016-01-11</td>\n",
       "      <td>WLTW</td>\n",
       "      <td>117.010002</td>\n",
       "      <td>114.970001</td>\n",
       "      <td>114.089996</td>\n",
       "      <td>117.330002</td>\n",
       "      <td>1408600.0</td>\n",
       "    </tr>\n",
       "  </tbody>\n",
       "</table>\n",
       "</div>"
      ],
      "text/plain": [
       "         date symbol        open       close         low        high  \\\n",
       "0  2016-01-05   WLTW  123.430000  125.839996  122.309998  126.250000   \n",
       "1  2016-01-06   WLTW  125.239998  119.980003  119.940002  125.540001   \n",
       "2  2016-01-07   WLTW  116.379997  114.949997  114.930000  119.739998   \n",
       "3  2016-01-08   WLTW  115.480003  116.620003  113.500000  117.440002   \n",
       "4  2016-01-11   WLTW  117.010002  114.970001  114.089996  117.330002   \n",
       "\n",
       "      volume  \n",
       "0  2163600.0  \n",
       "1  2386400.0  \n",
       "2  2489500.0  \n",
       "3  2006300.0  \n",
       "4  1408600.0  "
      ]
     },
     "execution_count": 2,
     "metadata": {},
     "output_type": "execute_result"
    }
   ],
   "source": [
    "df = pd.read_csv('prices-split-adjusted.csv')\n",
    "df.head()"
   ]
  },
  {
   "cell_type": "code",
   "execution_count": 3,
   "id": "exact-article",
   "metadata": {},
   "outputs": [
    {
     "data": {
      "text/html": [
       "<div>\n",
       "<style scoped>\n",
       "    .dataframe tbody tr th:only-of-type {\n",
       "        vertical-align: middle;\n",
       "    }\n",
       "\n",
       "    .dataframe tbody tr th {\n",
       "        vertical-align: top;\n",
       "    }\n",
       "\n",
       "    .dataframe thead th {\n",
       "        text-align: right;\n",
       "    }\n",
       "</style>\n",
       "<table border=\"1\" class=\"dataframe\">\n",
       "  <thead>\n",
       "    <tr style=\"text-align: right;\">\n",
       "      <th></th>\n",
       "      <th>symbol</th>\n",
       "      <th>open</th>\n",
       "      <th>close</th>\n",
       "      <th>low</th>\n",
       "      <th>high</th>\n",
       "      <th>volume</th>\n",
       "    </tr>\n",
       "    <tr>\n",
       "      <th>date</th>\n",
       "      <th></th>\n",
       "      <th></th>\n",
       "      <th></th>\n",
       "      <th></th>\n",
       "      <th></th>\n",
       "      <th></th>\n",
       "    </tr>\n",
       "  </thead>\n",
       "  <tbody>\n",
       "    <tr>\n",
       "      <th>2016-01-05</th>\n",
       "      <td>WLTW</td>\n",
       "      <td>123.430000</td>\n",
       "      <td>125.839996</td>\n",
       "      <td>122.309998</td>\n",
       "      <td>126.250000</td>\n",
       "      <td>2163600.0</td>\n",
       "    </tr>\n",
       "    <tr>\n",
       "      <th>2016-01-06</th>\n",
       "      <td>WLTW</td>\n",
       "      <td>125.239998</td>\n",
       "      <td>119.980003</td>\n",
       "      <td>119.940002</td>\n",
       "      <td>125.540001</td>\n",
       "      <td>2386400.0</td>\n",
       "    </tr>\n",
       "    <tr>\n",
       "      <th>2016-01-07</th>\n",
       "      <td>WLTW</td>\n",
       "      <td>116.379997</td>\n",
       "      <td>114.949997</td>\n",
       "      <td>114.930000</td>\n",
       "      <td>119.739998</td>\n",
       "      <td>2489500.0</td>\n",
       "    </tr>\n",
       "    <tr>\n",
       "      <th>2016-01-08</th>\n",
       "      <td>WLTW</td>\n",
       "      <td>115.480003</td>\n",
       "      <td>116.620003</td>\n",
       "      <td>113.500000</td>\n",
       "      <td>117.440002</td>\n",
       "      <td>2006300.0</td>\n",
       "    </tr>\n",
       "    <tr>\n",
       "      <th>2016-01-11</th>\n",
       "      <td>WLTW</td>\n",
       "      <td>117.010002</td>\n",
       "      <td>114.970001</td>\n",
       "      <td>114.089996</td>\n",
       "      <td>117.330002</td>\n",
       "      <td>1408600.0</td>\n",
       "    </tr>\n",
       "  </tbody>\n",
       "</table>\n",
       "</div>"
      ],
      "text/plain": [
       "           symbol        open       close         low        high     volume\n",
       "date                                                                        \n",
       "2016-01-05   WLTW  123.430000  125.839996  122.309998  126.250000  2163600.0\n",
       "2016-01-06   WLTW  125.239998  119.980003  119.940002  125.540001  2386400.0\n",
       "2016-01-07   WLTW  116.379997  114.949997  114.930000  119.739998  2489500.0\n",
       "2016-01-08   WLTW  115.480003  116.620003  113.500000  117.440002  2006300.0\n",
       "2016-01-11   WLTW  117.010002  114.970001  114.089996  117.330002  1408600.0"
      ]
     },
     "execution_count": 3,
     "metadata": {},
     "output_type": "execute_result"
    }
   ],
   "source": [
    "df.index = df.date\n",
    "\n",
    "df.drop('date', axis = 1, inplace = True)\n",
    "\n",
    "df.head()"
   ]
  },
  {
   "cell_type": "code",
   "execution_count": 4,
   "id": "protecting-richards",
   "metadata": {},
   "outputs": [],
   "source": [
    "df = df[df.symbol == 'AAPL']"
   ]
  },
  {
   "cell_type": "code",
   "execution_count": 5,
   "id": "reserved-laptop",
   "metadata": {},
   "outputs": [],
   "source": [
    "df.drop('symbol', axis = 1, inplace = True)"
   ]
  },
  {
   "cell_type": "code",
   "execution_count": 6,
   "id": "rural-comparative",
   "metadata": {},
   "outputs": [],
   "source": [
    "df_target = df[['close']]"
   ]
  },
  {
   "cell_type": "code",
   "execution_count": 7,
   "id": "operational-causing",
   "metadata": {},
   "outputs": [],
   "source": [
    "col_list = df.columns.tolist()"
   ]
  },
  {
   "cell_type": "code",
   "execution_count": 8,
   "id": "medieval-closure",
   "metadata": {},
   "outputs": [
    {
     "data": {
      "text/plain": [
       "['open', 'close', 'low', 'high', 'volume']"
      ]
     },
     "execution_count": 8,
     "metadata": {},
     "output_type": "execute_result"
    }
   ],
   "source": [
    "col_list"
   ]
  },
  {
   "cell_type": "code",
   "execution_count": 12,
   "id": "registered-lexington",
   "metadata": {},
   "outputs": [],
   "source": [
    "df_feature = df"
   ]
  },
  {
   "cell_type": "code",
   "execution_count": 13,
   "id": "occasional-stupid",
   "metadata": {},
   "outputs": [
    {
     "data": {
      "text/html": [
       "<div>\n",
       "<style scoped>\n",
       "    .dataframe tbody tr th:only-of-type {\n",
       "        vertical-align: middle;\n",
       "    }\n",
       "\n",
       "    .dataframe tbody tr th {\n",
       "        vertical-align: top;\n",
       "    }\n",
       "\n",
       "    .dataframe thead th {\n",
       "        text-align: right;\n",
       "    }\n",
       "</style>\n",
       "<table border=\"1\" class=\"dataframe\">\n",
       "  <thead>\n",
       "    <tr style=\"text-align: right;\">\n",
       "      <th></th>\n",
       "      <th>open</th>\n",
       "      <th>low</th>\n",
       "      <th>high</th>\n",
       "      <th>volume</th>\n",
       "    </tr>\n",
       "    <tr>\n",
       "      <th>date</th>\n",
       "      <th></th>\n",
       "      <th></th>\n",
       "      <th></th>\n",
       "      <th></th>\n",
       "    </tr>\n",
       "  </thead>\n",
       "  <tbody>\n",
       "    <tr>\n",
       "      <th>2010-01-04</th>\n",
       "      <td>30.490000</td>\n",
       "      <td>30.340000</td>\n",
       "      <td>30.642857</td>\n",
       "      <td>123432400.0</td>\n",
       "    </tr>\n",
       "    <tr>\n",
       "      <th>2010-01-05</th>\n",
       "      <td>30.657143</td>\n",
       "      <td>30.464285</td>\n",
       "      <td>30.798571</td>\n",
       "      <td>150476200.0</td>\n",
       "    </tr>\n",
       "    <tr>\n",
       "      <th>2010-01-06</th>\n",
       "      <td>30.625713</td>\n",
       "      <td>30.107143</td>\n",
       "      <td>30.747143</td>\n",
       "      <td>138040000.0</td>\n",
       "    </tr>\n",
       "    <tr>\n",
       "      <th>2010-01-07</th>\n",
       "      <td>30.250000</td>\n",
       "      <td>29.864286</td>\n",
       "      <td>30.285715</td>\n",
       "      <td>119282800.0</td>\n",
       "    </tr>\n",
       "    <tr>\n",
       "      <th>2010-01-08</th>\n",
       "      <td>30.042856</td>\n",
       "      <td>29.865715</td>\n",
       "      <td>30.285715</td>\n",
       "      <td>111902700.0</td>\n",
       "    </tr>\n",
       "  </tbody>\n",
       "</table>\n",
       "</div>"
      ],
      "text/plain": [
       "                 open        low       high       volume\n",
       "date                                                    \n",
       "2010-01-04  30.490000  30.340000  30.642857  123432400.0\n",
       "2010-01-05  30.657143  30.464285  30.798571  150476200.0\n",
       "2010-01-06  30.625713  30.107143  30.747143  138040000.0\n",
       "2010-01-07  30.250000  29.864286  30.285715  119282800.0\n",
       "2010-01-08  30.042856  29.865715  30.285715  111902700.0"
      ]
     },
     "execution_count": 13,
     "metadata": {},
     "output_type": "execute_result"
    }
   ],
   "source": [
    "df_feature.drop('close', axis = 1, inplace = True)\n",
    "df_feature.head()"
   ]
  },
  {
   "cell_type": "code",
   "execution_count": 14,
   "id": "protecting-sending",
   "metadata": {},
   "outputs": [],
   "source": [
    "df_feature['close'] = df_target['close']"
   ]
  },
  {
   "cell_type": "code",
   "execution_count": 9,
   "id": "united-brooks",
   "metadata": {},
   "outputs": [],
   "source": [
    "df_target = pd.DataFrame(df_target, columns = ['close'])"
   ]
  },
  {
   "cell_type": "code",
   "execution_count": 20,
   "id": "finnish-given",
   "metadata": {},
   "outputs": [
    {
     "data": {
      "text/html": [
       "<div>\n",
       "<style scoped>\n",
       "    .dataframe tbody tr th:only-of-type {\n",
       "        vertical-align: middle;\n",
       "    }\n",
       "\n",
       "    .dataframe tbody tr th {\n",
       "        vertical-align: top;\n",
       "    }\n",
       "\n",
       "    .dataframe thead th {\n",
       "        text-align: right;\n",
       "    }\n",
       "</style>\n",
       "<table border=\"1\" class=\"dataframe\">\n",
       "  <thead>\n",
       "    <tr style=\"text-align: right;\">\n",
       "      <th></th>\n",
       "      <th>open</th>\n",
       "      <th>low</th>\n",
       "      <th>high</th>\n",
       "      <th>volume</th>\n",
       "      <th>close</th>\n",
       "    </tr>\n",
       "    <tr>\n",
       "      <th>date</th>\n",
       "      <th></th>\n",
       "      <th></th>\n",
       "      <th></th>\n",
       "      <th></th>\n",
       "      <th></th>\n",
       "    </tr>\n",
       "  </thead>\n",
       "  <tbody>\n",
       "    <tr>\n",
       "      <th>2010-01-04</th>\n",
       "      <td>30.490000</td>\n",
       "      <td>30.340000</td>\n",
       "      <td>30.642857</td>\n",
       "      <td>123432400.0</td>\n",
       "      <td>30.572857</td>\n",
       "    </tr>\n",
       "    <tr>\n",
       "      <th>2010-01-05</th>\n",
       "      <td>30.657143</td>\n",
       "      <td>30.464285</td>\n",
       "      <td>30.798571</td>\n",
       "      <td>150476200.0</td>\n",
       "      <td>30.625713</td>\n",
       "    </tr>\n",
       "    <tr>\n",
       "      <th>2010-01-06</th>\n",
       "      <td>30.625713</td>\n",
       "      <td>30.107143</td>\n",
       "      <td>30.747143</td>\n",
       "      <td>138040000.0</td>\n",
       "      <td>30.138571</td>\n",
       "    </tr>\n",
       "    <tr>\n",
       "      <th>2010-01-07</th>\n",
       "      <td>30.250000</td>\n",
       "      <td>29.864286</td>\n",
       "      <td>30.285715</td>\n",
       "      <td>119282800.0</td>\n",
       "      <td>30.082857</td>\n",
       "    </tr>\n",
       "    <tr>\n",
       "      <th>2010-01-08</th>\n",
       "      <td>30.042856</td>\n",
       "      <td>29.865715</td>\n",
       "      <td>30.285715</td>\n",
       "      <td>111902700.0</td>\n",
       "      <td>30.282858</td>\n",
       "    </tr>\n",
       "  </tbody>\n",
       "</table>\n",
       "</div>"
      ],
      "text/plain": [
       "                 open        low       high       volume      close\n",
       "date                                                               \n",
       "2010-01-04  30.490000  30.340000  30.642857  123432400.0  30.572857\n",
       "2010-01-05  30.657143  30.464285  30.798571  150476200.0  30.625713\n",
       "2010-01-06  30.625713  30.107143  30.747143  138040000.0  30.138571\n",
       "2010-01-07  30.250000  29.864286  30.285715  119282800.0  30.082857\n",
       "2010-01-08  30.042856  29.865715  30.285715  111902700.0  30.282858"
      ]
     },
     "execution_count": 20,
     "metadata": {},
     "output_type": "execute_result"
    }
   ],
   "source": [
    "df_feature.head()"
   ]
  },
  {
   "cell_type": "code",
   "execution_count": 19,
   "id": "ideal-overview",
   "metadata": {},
   "outputs": [
    {
     "data": {
      "text/html": [
       "<div>\n",
       "<style scoped>\n",
       "    .dataframe tbody tr th:only-of-type {\n",
       "        vertical-align: middle;\n",
       "    }\n",
       "\n",
       "    .dataframe tbody tr th {\n",
       "        vertical-align: top;\n",
       "    }\n",
       "\n",
       "    .dataframe thead th {\n",
       "        text-align: right;\n",
       "    }\n",
       "</style>\n",
       "<table border=\"1\" class=\"dataframe\">\n",
       "  <thead>\n",
       "    <tr style=\"text-align: right;\">\n",
       "      <th></th>\n",
       "      <th>close</th>\n",
       "    </tr>\n",
       "    <tr>\n",
       "      <th>date</th>\n",
       "      <th></th>\n",
       "    </tr>\n",
       "  </thead>\n",
       "  <tbody>\n",
       "    <tr>\n",
       "      <th>2010-01-04</th>\n",
       "      <td>30.572857</td>\n",
       "    </tr>\n",
       "    <tr>\n",
       "      <th>2010-01-05</th>\n",
       "      <td>30.625713</td>\n",
       "    </tr>\n",
       "    <tr>\n",
       "      <th>2010-01-06</th>\n",
       "      <td>30.138571</td>\n",
       "    </tr>\n",
       "    <tr>\n",
       "      <th>2010-01-07</th>\n",
       "      <td>30.082857</td>\n",
       "    </tr>\n",
       "    <tr>\n",
       "      <th>2010-01-08</th>\n",
       "      <td>30.282858</td>\n",
       "    </tr>\n",
       "  </tbody>\n",
       "</table>\n",
       "</div>"
      ],
      "text/plain": [
       "                close\n",
       "date                 \n",
       "2010-01-04  30.572857\n",
       "2010-01-05  30.625713\n",
       "2010-01-06  30.138571\n",
       "2010-01-07  30.082857\n",
       "2010-01-08  30.282858"
      ]
     },
     "execution_count": 19,
     "metadata": {},
     "output_type": "execute_result"
    }
   ],
   "source": [
    "df_target.head()"
   ]
  },
  {
   "cell_type": "code",
   "execution_count": 31,
   "id": "integral-language",
   "metadata": {},
   "outputs": [],
   "source": [
    "df_feature.drop('close', axis = 1, inplace = True)"
   ]
  },
  {
   "cell_type": "code",
   "execution_count": 15,
   "id": "charged-charity",
   "metadata": {},
   "outputs": [],
   "source": [
    "df_feature['close'] = df_target['close']"
   ]
  },
  {
   "cell_type": "code",
   "execution_count": 21,
   "id": "anonymous-mexican",
   "metadata": {},
   "outputs": [],
   "source": [
    "MMS_F = MinMaxScaler()\n",
    "MMS_T = MinMaxScaler()\n",
    "\n",
    "df_feature = pd.DataFrame(MMS_F.fit_transform(df_feature.values))\n",
    "df_target = pd.DataFrame(MMS_T.fit_transform(df_target.values))"
   ]
  },
  {
   "cell_type": "code",
   "execution_count": 23,
   "id": "intense-commander",
   "metadata": {},
   "outputs": [],
   "source": [
    "df_feature.columns = ['open', 'low', 'high', 'volume', 'close']"
   ]
  },
  {
   "cell_type": "code",
   "execution_count": 24,
   "id": "retired-albany",
   "metadata": {},
   "outputs": [],
   "source": [
    "df_target.columns = ['close']"
   ]
  },
  {
   "cell_type": "code",
   "execution_count": 26,
   "id": "protected-speech",
   "metadata": {},
   "outputs": [],
   "source": [
    "def make_dataset(data, label, window_size):\n",
    "    feature_list = []\n",
    "    label_list = []\n",
    "    \n",
    "    for i in range(len(data) - window_size):\n",
    "        feature_list.append(np.array(data.iloc[i : i + window_size]))\n",
    "        label_list.append(np.array(label.iloc[i + window_size]))\n",
    "        \n",
    "    return np.array(feature_list), np.array(label_list)"
   ]
  },
  {
   "cell_type": "code",
   "execution_count": 27,
   "id": "incomplete-fleece",
   "metadata": {},
   "outputs": [
    {
     "data": {
      "text/plain": [
       "((1500, 5), (262, 5), (1500, 1), (262, 1))"
      ]
     },
     "execution_count": 27,
     "metadata": {},
     "output_type": "execute_result"
    }
   ],
   "source": [
    "x_train = df_feature[:1500]\n",
    "x_test = df_feature[1500:]\n",
    "\n",
    "y_train = df_target[:1500]\n",
    "y_test = df_target[1500:]\n",
    "\n",
    "x_train.shape, x_test.shape, y_train.shape, y_test.shape"
   ]
  },
  {
   "cell_type": "code",
   "execution_count": 28,
   "id": "supreme-promise",
   "metadata": {},
   "outputs": [],
   "source": [
    "x_train, y_train = make_dataset(x_train, y_train, 24)\n",
    "x_test, y_test = make_dataset(x_test, y_test, 24)"
   ]
  },
  {
   "cell_type": "code",
   "execution_count": 29,
   "id": "together-vertex",
   "metadata": {},
   "outputs": [
    {
     "data": {
      "text/plain": [
       "((1476, 24, 5), (1476, 1), (238, 24, 5), (238, 1))"
      ]
     },
     "execution_count": 29,
     "metadata": {},
     "output_type": "execute_result"
    }
   ],
   "source": [
    "x_train.shape, y_train.shape, x_test.shape, y_test.shape"
   ]
  },
  {
   "cell_type": "code",
   "execution_count": 37,
   "id": "geographic-symphony",
   "metadata": {},
   "outputs": [
    {
     "name": "stdout",
     "output_type": "stream",
     "text": [
      "Model: \"sequential_1\"\n",
      "_________________________________________________________________\n",
      "Layer (type)                 Output Shape              Param #   \n",
      "=================================================================\n",
      "lstm_1 (LSTM)                (None, 256)               268288    \n",
      "_________________________________________________________________\n",
      "dropout_1 (Dropout)          (None, 256)               0         \n",
      "_________________________________________________________________\n",
      "dense_1 (Dense)              (None, 1)                 257       \n",
      "=================================================================\n",
      "Total params: 268,545\n",
      "Trainable params: 268,545\n",
      "Non-trainable params: 0\n",
      "_________________________________________________________________\n"
     ]
    }
   ],
   "source": [
    "def build_model():\n",
    "    \n",
    "    model = Sequential()\n",
    "    model.add(LSTM(256, input_shape = (x_train.shape[1], x_train.shape[2]), return_sequences = False))\n",
    "    model.add(Dropout(0.2))\n",
    "    model.add(Dense(1, kernel_initializer = \"uniform\", activation = 'linear'))\n",
    "    \n",
    "    return model\n",
    "\n",
    "model = build_model()\n",
    "model.summary()"
   ]
  },
  {
   "cell_type": "code",
   "execution_count": 38,
   "id": "governing-transcript",
   "metadata": {},
   "outputs": [],
   "source": [
    "model.compile(loss = 'mse', optimizer = Adam(), metrics = ['accuracy'])"
   ]
  },
  {
   "cell_type": "code",
   "execution_count": 39,
   "id": "acquired-stylus",
   "metadata": {},
   "outputs": [
    {
     "name": "stdout",
     "output_type": "stream",
     "text": [
      "Epoch 1/50\n",
      "11/11 [==============================] - 5s 210ms/step - loss: 0.0968 - accuracy: 6.7605e-04 - val_loss: 0.0409 - val_accuracy: 0.0000e+00\n",
      "Epoch 2/50\n",
      "11/11 [==============================] - 2s 175ms/step - loss: 0.0061 - accuracy: 0.0011 - val_loss: 0.0150 - val_accuracy: 0.0000e+00\n",
      "Epoch 3/50\n",
      "11/11 [==============================] - 2s 184ms/step - loss: 0.0035 - accuracy: 6.7605e-04 - val_loss: 0.0010 - val_accuracy: 0.0000e+00\n",
      "Epoch 4/50\n",
      "11/11 [==============================] - 3s 252ms/step - loss: 0.0014 - accuracy: 0.0014 - val_loss: 0.0022 - val_accuracy: 0.0000e+00\n",
      "Epoch 5/50\n",
      "11/11 [==============================] - 3s 271ms/step - loss: 0.0011 - accuracy: 4.3733e-04 - val_loss: 0.0014 - val_accuracy: 0.0000e+00\n",
      "Epoch 6/50\n",
      "11/11 [==============================] - 3s 261ms/step - loss: 0.0011 - accuracy: 2.6294e-04 - val_loss: 0.0012 - val_accuracy: 0.0000e+00\n",
      "Epoch 7/50\n",
      "11/11 [==============================] - 3s 237ms/step - loss: 9.7019e-04 - accuracy: 6.7605e-04 - val_loss: 0.0011 - val_accuracy: 0.0000e+00\n",
      "Epoch 8/50\n",
      "11/11 [==============================] - 3s 236ms/step - loss: 9.4505e-04 - accuracy: 6.7605e-04 - val_loss: 0.0011 - val_accuracy: 0.0000e+00\n",
      "Epoch 9/50\n",
      "11/11 [==============================] - 2s 221ms/step - loss: 8.6787e-04 - accuracy: 0.0011 - val_loss: 0.0013 - val_accuracy: 0.0000e+00\n",
      "Epoch 10/50\n",
      "11/11 [==============================] - 3s 259ms/step - loss: 9.4990e-04 - accuracy: 2.6294e-04 - val_loss: 0.0011 - val_accuracy: 0.0000e+00\n",
      "Epoch 11/50\n",
      "11/11 [==============================] - 3s 247ms/step - loss: 9.8927e-04 - accuracy: 5.4584e-04 - val_loss: 0.0012 - val_accuracy: 0.0000e+00\n",
      "Epoch 12/50\n",
      "11/11 [==============================] - 3s 244ms/step - loss: 9.3383e-04 - accuracy: 1.9061e-04 - val_loss: 9.5420e-04 - val_accuracy: 0.0000e+00\n",
      "Epoch 13/50\n",
      "11/11 [==============================] - 2s 168ms/step - loss: 8.8368e-04 - accuracy: 0.0011 - val_loss: 9.4198e-04 - val_accuracy: 0.0000e+00\n",
      "Epoch 14/50\n",
      "11/11 [==============================] - 2s 149ms/step - loss: 8.4006e-04 - accuracy: 4.3733e-04 - val_loss: 0.0011 - val_accuracy: 0.0000e+00\n",
      "Epoch 15/50\n",
      "11/11 [==============================] - 2s 154ms/step - loss: 9.3358e-04 - accuracy: 6.7605e-04 - val_loss: 9.3717e-04 - val_accuracy: 0.0000e+00\n",
      "Epoch 16/50\n",
      "11/11 [==============================] - 2s 153ms/step - loss: 8.7905e-04 - accuracy: 0.0011 - val_loss: 9.2504e-04 - val_accuracy: 0.0000e+00\n",
      "Epoch 17/50\n",
      "11/11 [==============================] - 2s 147ms/step - loss: 8.4371e-04 - accuracy: 3.4432e-04 - val_loss: 0.0012 - val_accuracy: 0.0000e+00\n",
      "Epoch 18/50\n",
      "11/11 [==============================] - 2s 167ms/step - loss: 7.9354e-04 - accuracy: 6.7605e-04 - val_loss: 0.0011 - val_accuracy: 0.0000e+00\n",
      "Epoch 19/50\n",
      "11/11 [==============================] - 2s 145ms/step - loss: 7.8020e-04 - accuracy: 3.4432e-04 - val_loss: 9.7843e-04 - val_accuracy: 0.0000e+00\n",
      "Epoch 20/50\n",
      "11/11 [==============================] - 2s 151ms/step - loss: 7.7231e-04 - accuracy: 5.4584e-04 - val_loss: 0.0020 - val_accuracy: 0.0000e+00\n",
      "Epoch 21/50\n",
      "11/11 [==============================] - 2s 159ms/step - loss: 9.6931e-04 - accuracy: 3.4432e-04 - val_loss: 0.0010 - val_accuracy: 0.0000e+00\n",
      "Epoch 22/50\n",
      "11/11 [==============================] - 2s 171ms/step - loss: 8.1058e-04 - accuracy: 3.4432e-04 - val_loss: 9.0210e-04 - val_accuracy: 0.0000e+00\n",
      "Epoch 23/50\n",
      "11/11 [==============================] - 2s 206ms/step - loss: 7.5040e-04 - accuracy: 2.6294e-04 - val_loss: 9.8639e-04 - val_accuracy: 0.0000e+00\n",
      "Epoch 24/50\n",
      "11/11 [==============================] - 2s 187ms/step - loss: 7.2174e-04 - accuracy: 5.4584e-04 - val_loss: 0.0015 - val_accuracy: 0.0000e+00\n",
      "Epoch 25/50\n",
      "11/11 [==============================] - 3s 271ms/step - loss: 8.2600e-04 - accuracy: 0.0014 - val_loss: 9.6737e-04 - val_accuracy: 0.0000e+00\n",
      "Epoch 26/50\n",
      "11/11 [==============================] - 2s 212ms/step - loss: 8.3817e-04 - accuracy: 0.0020 - val_loss: 8.5498e-04 - val_accuracy: 0.0000e+00\n",
      "Epoch 27/50\n",
      "11/11 [==============================] - 2s 173ms/step - loss: 7.6738e-04 - accuracy: 8.3881e-04 - val_loss: 9.4616e-04 - val_accuracy: 0.0000e+00\n",
      "Epoch 28/50\n",
      "11/11 [==============================] - 2s 152ms/step - loss: 8.1928e-04 - accuracy: 4.3733e-04 - val_loss: 0.0011 - val_accuracy: 0.0000e+00\n",
      "Epoch 29/50\n",
      "11/11 [==============================] - 2s 171ms/step - loss: 8.0538e-04 - accuracy: 0.0011 - val_loss: 0.0011 - val_accuracy: 0.0000e+00\n",
      "Epoch 30/50\n",
      "11/11 [==============================] - 2s 229ms/step - loss: 7.7399e-04 - accuracy: 0.0011 - val_loss: 0.0029 - val_accuracy: 0.0000e+00\n",
      "Epoch 31/50\n",
      "11/11 [==============================] - 4s 316ms/step - loss: 0.0010 - accuracy: 1.9061e-04 - val_loss: 8.7198e-04 - val_accuracy: 0.0000e+00\n",
      "Epoch 32/50\n",
      "11/11 [==============================] - 2s 193ms/step - loss: 6.9350e-04 - accuracy: 1.2550e-04 - val_loss: 8.1725e-04 - val_accuracy: 0.0000e+00\n",
      "Epoch 33/50\n",
      "11/11 [==============================] - 3s 234ms/step - loss: 7.4734e-04 - accuracy: 8.3881e-04 - val_loss: 8.6778e-04 - val_accuracy: 0.0000e+00\n",
      "Epoch 34/50\n",
      "11/11 [==============================] - 3s 232ms/step - loss: 8.1908e-04 - accuracy: 2.6294e-04 - val_loss: 9.0250e-04 - val_accuracy: 0.0000e+00\n",
      "Epoch 35/50\n",
      "11/11 [==============================] - 2s 185ms/step - loss: 6.8883e-04 - accuracy: 3.4432e-04 - val_loss: 8.7616e-04 - val_accuracy: 0.0000e+00\n",
      "Epoch 36/50\n",
      "11/11 [==============================] - 2s 179ms/step - loss: 7.2218e-04 - accuracy: 8.3881e-04 - val_loss: 8.0268e-04 - val_accuracy: 0.0000e+00\n",
      "Epoch 37/50\n",
      "11/11 [==============================] - 2s 179ms/step - loss: 6.2481e-04 - accuracy: 1.9061e-04 - val_loss: 0.0011 - val_accuracy: 0.0000e+00\n",
      "Epoch 38/50\n",
      "11/11 [==============================] - 2s 200ms/step - loss: 6.5781e-04 - accuracy: 0.0011 - val_loss: 9.3307e-04 - val_accuracy: 0.0000e+00\n",
      "Epoch 39/50\n",
      "11/11 [==============================] - 2s 190ms/step - loss: 6.2875e-04 - accuracy: 5.4584e-04 - val_loss: 8.6783e-04 - val_accuracy: 0.0000e+00\n",
      "Epoch 40/50\n",
      "11/11 [==============================] - 2s 201ms/step - loss: 6.5137e-04 - accuracy: 0.0014 - val_loss: 8.9435e-04 - val_accuracy: 0.0000e+00\n",
      "Epoch 41/50\n",
      "11/11 [==============================] - 2s 210ms/step - loss: 5.4071e-04 - accuracy: 1.9061e-04 - val_loss: 7.9177e-04 - val_accuracy: 0.0000e+00\n",
      "Epoch 42/50\n",
      "11/11 [==============================] - 2s 221ms/step - loss: 7.4100e-04 - accuracy: 1.2550e-04 - val_loss: 9.8044e-04 - val_accuracy: 0.0000e+00\n",
      "Epoch 43/50\n",
      "11/11 [==============================] - 3s 240ms/step - loss: 5.9733e-04 - accuracy: 0.0011 - val_loss: 7.8962e-04 - val_accuracy: 0.0000e+00\n",
      "Epoch 44/50\n",
      "11/11 [==============================] - 2s 219ms/step - loss: 6.2755e-04 - accuracy: 6.7605e-04 - val_loss: 7.7797e-04 - val_accuracy: 0.0000e+00\n",
      "Epoch 45/50\n",
      "11/11 [==============================] - 2s 189ms/step - loss: 5.9967e-04 - accuracy: 4.3733e-04 - val_loss: 8.0347e-04 - val_accuracy: 0.0000e+00\n",
      "Epoch 46/50\n",
      "11/11 [==============================] - 2s 178ms/step - loss: 5.9276e-04 - accuracy: 2.6294e-04 - val_loss: 7.5783e-04 - val_accuracy: 0.0000e+00\n",
      "Epoch 47/50\n",
      "11/11 [==============================] - 2s 182ms/step - loss: 6.1153e-04 - accuracy: 3.4432e-04 - val_loss: 7.4505e-04 - val_accuracy: 0.0000e+00\n",
      "Epoch 48/50\n",
      "11/11 [==============================] - 2s 189ms/step - loss: 6.1015e-04 - accuracy: 8.3881e-04 - val_loss: 7.9704e-04 - val_accuracy: 0.0000e+00\n",
      "Epoch 49/50\n",
      "11/11 [==============================] - 3s 237ms/step - loss: 6.6877e-04 - accuracy: 5.4584e-04 - val_loss: 8.3070e-04 - val_accuracy: 0.0000e+00\n",
      "Epoch 50/50\n",
      "11/11 [==============================] - 2s 180ms/step - loss: 6.3646e-04 - accuracy: 3.4432e-04 - val_loss: 9.0298e-04 - val_accuracy: 0.0000e+00\n"
     ]
    }
   ],
   "source": [
    "history = model.fit(x_train, y_train, epochs = 50, batch_size = 128, validation_split = 0.1)"
   ]
  },
  {
   "cell_type": "code",
   "execution_count": 41,
   "id": "sudden-banana",
   "metadata": {},
   "outputs": [
    {
     "data": {
      "text/plain": [
       "array([[0.65201265],\n",
       "       [0.6587533 ],\n",
       "       [0.6641869 ],\n",
       "       [0.65943277],\n",
       "       [0.6532185 ],\n",
       "       [0.64812785],\n",
       "       [0.64493036],\n",
       "       [0.6404696 ],\n",
       "       [0.63709503],\n",
       "       [0.6360821 ]], dtype=float32)"
      ]
     },
     "execution_count": 41,
     "metadata": {},
     "output_type": "execute_result"
    }
   ],
   "source": [
    "pred = model.predict(x_test)\n",
    "pred[:10]"
   ]
  },
  {
   "cell_type": "code",
   "execution_count": 42,
   "id": "waiting-charles",
   "metadata": {},
   "outputs": [
    {
     "data": {
      "text/plain": [
       "array([[99.440002],\n",
       "       [99.989998],\n",
       "       [93.419998],\n",
       "       [94.089996],\n",
       "       [97.339996],\n",
       "       [96.43    ],\n",
       "       [94.480003],\n",
       "       [96.349998],\n",
       "       [96.599998],\n",
       "       [94.019997]])"
      ]
     },
     "execution_count": 42,
     "metadata": {},
     "output_type": "execute_result"
    }
   ],
   "source": [
    "y_test = MMS_T.inverse_transform(y_test)\n",
    "y_test[:10]"
   ]
  },
  {
   "cell_type": "code",
   "execution_count": 43,
   "id": "attractive-notification",
   "metadata": {},
   "outputs": [
    {
     "data": {
      "text/plain": [
       "(238, 1)"
      ]
     },
     "execution_count": 43,
     "metadata": {},
     "output_type": "execute_result"
    }
   ],
   "source": [
    "y_test.shape"
   ]
  },
  {
   "cell_type": "code",
   "execution_count": 44,
   "id": "several-webcam",
   "metadata": {},
   "outputs": [
    {
     "data": {
      "text/plain": [
       "array([[96.26496 ],\n",
       "       [96.97653 ],\n",
       "       [97.55013 ],\n",
       "       [97.04826 ],\n",
       "       [96.39226 ],\n",
       "       [95.854866],\n",
       "       [95.51733 ],\n",
       "       [95.04643 ],\n",
       "       [94.69019 ],\n",
       "       [94.58327 ]], dtype=float32)"
      ]
     },
     "execution_count": 44,
     "metadata": {},
     "output_type": "execute_result"
    }
   ],
   "source": [
    "pred = MMS_T.inverse_transform(pred)\n",
    "pred[:10]"
   ]
  },
  {
   "cell_type": "code",
   "execution_count": 46,
   "id": "collected-moral",
   "metadata": {},
   "outputs": [],
   "source": [
    "import matplotlib.pyplot as plt"
   ]
  },
  {
   "cell_type": "code",
   "execution_count": 50,
   "id": "contemporary-donna",
   "metadata": {},
   "outputs": [
    {
     "data": {
      "image/png": "[encoded data removed]",
      "text/plain": [
       "<Figure size 1080x576 with 1 Axes>"
      ]
     },
     "metadata": {
      "needs_background": "light"
     },
     "output_type": "display_data"
    }
   ],
   "source": [
    "ax, fig = plt.subplots(figsize = (15, 8))\n",
    "\n",
    "plt.plot(pred, color = 'red', label = 'Prediction')\n",
    "plt.plot(y_test, color = 'blue', label = 'Actual Value')\n",
    "plt.legend()\n",
    "\n",
    "plt.savefig('Keras_LSTM_1.jpg')"
   ]
  },
  {
   "cell_type": "code",
   "execution_count": null,
   "id": "fifth-klein",
   "metadata": {},
   "outputs": [],
   "source": []
  }
 ],
 "metadata": {
  "kernelspec": {
   "display_name": "Python 3",
   "language": "python",
   "name": "python3"
  },
  "language_info": {
   "codemirror_mode": {
    "name": "ipython",
    "version": 3
   },
   "file_extension": ".py",
   "mimetype": "text/x-python",
   "name": "python",
   "nbconvert_exporter": "python",
   "pygments_lexer": "ipython3",
   "version": "3.8.2"
  }
 },
 "nbformat": 4,
 "nbformat_minor": 5
}
