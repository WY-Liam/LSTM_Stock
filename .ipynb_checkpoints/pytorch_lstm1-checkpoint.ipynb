{
 "cells": [
  {
   "cell_type": "code",
   "execution_count": 1,
   "metadata": {},
   "outputs": [],
   "source": [
    "import torch as t\n",
    "\n",
    "import torch.nn as nn\n",
    "\n",
    "import numpy as np\n",
    "\n",
    "import pandas as pd\n",
    "\n",
    "import matplotlib.pyplot as plt\n",
    "\n",
    "import torch.nn.functional as F\n",
    "\n",
    "from sklearn.preprocessing import MinMaxScaler\n",
    "\n",
    "from sklearn.model_selection import train_test_split"
   ]
  },
  {
   "cell_type": "code",
   "execution_count": 2,
   "metadata": {},
   "outputs": [
    {
     "data": {
      "text/html": [
       "<div>\n",
       "<style scoped>\n",
       "    .dataframe tbody tr th:only-of-type {\n",
       "        vertical-align: middle;\n",
       "    }\n",
       "\n",
       "    .dataframe tbody tr th {\n",
       "        vertical-align: top;\n",
       "    }\n",
       "\n",
       "    .dataframe thead th {\n",
       "        text-align: right;\n",
       "    }\n",
       "</style>\n",
       "<table border=\"1\" class=\"dataframe\">\n",
       "  <thead>\n",
       "    <tr style=\"text-align: right;\">\n",
       "      <th></th>\n",
       "      <th>date</th>\n",
       "      <th>symbol</th>\n",
       "      <th>open</th>\n",
       "      <th>close</th>\n",
       "      <th>low</th>\n",
       "      <th>high</th>\n",
       "      <th>volume</th>\n",
       "    </tr>\n",
       "  </thead>\n",
       "  <tbody>\n",
       "    <tr>\n",
       "      <th>0</th>\n",
       "      <td>2016-01-05</td>\n",
       "      <td>WLTW</td>\n",
       "      <td>123.430000</td>\n",
       "      <td>125.839996</td>\n",
       "      <td>122.309998</td>\n",
       "      <td>126.250000</td>\n",
       "      <td>2163600.0</td>\n",
       "    </tr>\n",
       "    <tr>\n",
       "      <th>1</th>\n",
       "      <td>2016-01-06</td>\n",
       "      <td>WLTW</td>\n",
       "      <td>125.239998</td>\n",
       "      <td>119.980003</td>\n",
       "      <td>119.940002</td>\n",
       "      <td>125.540001</td>\n",
       "      <td>2386400.0</td>\n",
       "    </tr>\n",
       "    <tr>\n",
       "      <th>2</th>\n",
       "      <td>2016-01-07</td>\n",
       "      <td>WLTW</td>\n",
       "      <td>116.379997</td>\n",
       "      <td>114.949997</td>\n",
       "      <td>114.930000</td>\n",
       "      <td>119.739998</td>\n",
       "      <td>2489500.0</td>\n",
       "    </tr>\n",
       "    <tr>\n",
       "      <th>3</th>\n",
       "      <td>2016-01-08</td>\n",
       "      <td>WLTW</td>\n",
       "      <td>115.480003</td>\n",
       "      <td>116.620003</td>\n",
       "      <td>113.500000</td>\n",
       "      <td>117.440002</td>\n",
       "      <td>2006300.0</td>\n",
       "    </tr>\n",
       "    <tr>\n",
       "      <th>4</th>\n",
       "      <td>2016-01-11</td>\n",
       "      <td>WLTW</td>\n",
       "      <td>117.010002</td>\n",
       "      <td>114.970001</td>\n",
       "      <td>114.089996</td>\n",
       "      <td>117.330002</td>\n",
       "      <td>1408600.0</td>\n",
       "    </tr>\n",
       "  </tbody>\n",
       "</table>\n",
       "</div>"
      ],
      "text/plain": [
       "         date symbol        open       close         low        high  \\\n",
       "0  2016-01-05   WLTW  123.430000  125.839996  122.309998  126.250000   \n",
       "1  2016-01-06   WLTW  125.239998  119.980003  119.940002  125.540001   \n",
       "2  2016-01-07   WLTW  116.379997  114.949997  114.930000  119.739998   \n",
       "3  2016-01-08   WLTW  115.480003  116.620003  113.500000  117.440002   \n",
       "4  2016-01-11   WLTW  117.010002  114.970001  114.089996  117.330002   \n",
       "\n",
       "      volume  \n",
       "0  2163600.0  \n",
       "1  2386400.0  \n",
       "2  2489500.0  \n",
       "3  2006300.0  \n",
       "4  1408600.0  "
      ]
     },
     "execution_count": 2,
     "metadata": {},
     "output_type": "execute_result"
    }
   ],
   "source": [
    "df = pd.read_csv('prices-split-adjusted.csv')\n",
    "\n",
    "df.head()"
   ]
  },
  {
   "cell_type": "code",
   "execution_count": 3,
   "metadata": {},
   "outputs": [],
   "source": [
    "df = df[df.symbol == 'GOOGL']\n",
    "df.index = df.date\n",
    "\n",
    "df.drop(columns = ['date', 'symbol'], inplace = True)"
   ]
  },
  {
   "cell_type": "code",
   "execution_count": 4,
   "metadata": {},
   "outputs": [
    {
     "data": {
      "text/html": [
       "<div>\n",
       "<style scoped>\n",
       "    .dataframe tbody tr th:only-of-type {\n",
       "        vertical-align: middle;\n",
       "    }\n",
       "\n",
       "    .dataframe tbody tr th {\n",
       "        vertical-align: top;\n",
       "    }\n",
       "\n",
       "    .dataframe thead th {\n",
       "        text-align: right;\n",
       "    }\n",
       "</style>\n",
       "<table border=\"1\" class=\"dataframe\">\n",
       "  <thead>\n",
       "    <tr style=\"text-align: right;\">\n",
       "      <th></th>\n",
       "      <th>open</th>\n",
       "      <th>close</th>\n",
       "      <th>low</th>\n",
       "      <th>high</th>\n",
       "      <th>volume</th>\n",
       "    </tr>\n",
       "    <tr>\n",
       "      <th>date</th>\n",
       "      <th></th>\n",
       "      <th></th>\n",
       "      <th></th>\n",
       "      <th></th>\n",
       "      <th></th>\n",
       "    </tr>\n",
       "  </thead>\n",
       "  <tbody>\n",
       "    <tr>\n",
       "      <th>2010-01-04</th>\n",
       "      <td>313.788792</td>\n",
       "      <td>313.688694</td>\n",
       "      <td>312.432438</td>\n",
       "      <td>315.070073</td>\n",
       "      <td>3908400.0</td>\n",
       "    </tr>\n",
       "    <tr>\n",
       "      <th>2010-01-05</th>\n",
       "      <td>313.903904</td>\n",
       "      <td>312.307316</td>\n",
       "      <td>311.081089</td>\n",
       "      <td>314.234226</td>\n",
       "      <td>6003300.0</td>\n",
       "    </tr>\n",
       "    <tr>\n",
       "      <th>2010-01-06</th>\n",
       "      <td>313.243260</td>\n",
       "      <td>304.434452</td>\n",
       "      <td>303.483494</td>\n",
       "      <td>313.243260</td>\n",
       "      <td>7949400.0</td>\n",
       "    </tr>\n",
       "    <tr>\n",
       "      <th>2010-01-07</th>\n",
       "      <td>305.005009</td>\n",
       "      <td>297.347355</td>\n",
       "      <td>296.621617</td>\n",
       "      <td>305.305302</td>\n",
       "      <td>12815700.0</td>\n",
       "    </tr>\n",
       "    <tr>\n",
       "      <th>2010-01-08</th>\n",
       "      <td>296.296299</td>\n",
       "      <td>301.311314</td>\n",
       "      <td>294.849857</td>\n",
       "      <td>301.926945</td>\n",
       "      <td>9439100.0</td>\n",
       "    </tr>\n",
       "  </tbody>\n",
       "</table>\n",
       "</div>"
      ],
      "text/plain": [
       "                  open       close         low        high      volume\n",
       "date                                                                  \n",
       "2010-01-04  313.788792  313.688694  312.432438  315.070073   3908400.0\n",
       "2010-01-05  313.903904  312.307316  311.081089  314.234226   6003300.0\n",
       "2010-01-06  313.243260  304.434452  303.483494  313.243260   7949400.0\n",
       "2010-01-07  305.005009  297.347355  296.621617  305.305302  12815700.0\n",
       "2010-01-08  296.296299  301.311314  294.849857  301.926945   9439100.0"
      ]
     },
     "execution_count": 4,
     "metadata": {},
     "output_type": "execute_result"
    }
   ],
   "source": [
    "df.head()"
   ]
  },
  {
   "cell_type": "code",
   "execution_count": 5,
   "metadata": {},
   "outputs": [
    {
     "data": {
      "text/html": [
       "<div>\n",
       "<style scoped>\n",
       "    .dataframe tbody tr th:only-of-type {\n",
       "        vertical-align: middle;\n",
       "    }\n",
       "\n",
       "    .dataframe tbody tr th {\n",
       "        vertical-align: top;\n",
       "    }\n",
       "\n",
       "    .dataframe thead th {\n",
       "        text-align: right;\n",
       "    }\n",
       "</style>\n",
       "<table border=\"1\" class=\"dataframe\">\n",
       "  <thead>\n",
       "    <tr style=\"text-align: right;\">\n",
       "      <th></th>\n",
       "      <th>close</th>\n",
       "    </tr>\n",
       "    <tr>\n",
       "      <th>date</th>\n",
       "      <th></th>\n",
       "    </tr>\n",
       "  </thead>\n",
       "  <tbody>\n",
       "    <tr>\n",
       "      <th>2010-01-04</th>\n",
       "      <td>313.688694</td>\n",
       "    </tr>\n",
       "    <tr>\n",
       "      <th>2010-01-05</th>\n",
       "      <td>312.307316</td>\n",
       "    </tr>\n",
       "    <tr>\n",
       "      <th>2010-01-06</th>\n",
       "      <td>304.434452</td>\n",
       "    </tr>\n",
       "    <tr>\n",
       "      <th>2010-01-07</th>\n",
       "      <td>297.347355</td>\n",
       "    </tr>\n",
       "    <tr>\n",
       "      <th>2010-01-08</th>\n",
       "      <td>301.311314</td>\n",
       "    </tr>\n",
       "  </tbody>\n",
       "</table>\n",
       "</div>"
      ],
      "text/plain": [
       "                 close\n",
       "date                  \n",
       "2010-01-04  313.688694\n",
       "2010-01-05  312.307316\n",
       "2010-01-06  304.434452\n",
       "2010-01-07  297.347355\n",
       "2010-01-08  301.311314"
      ]
     },
     "execution_count": 5,
     "metadata": {},
     "output_type": "execute_result"
    }
   ],
   "source": [
    "df_target = df[['close']]\n",
    "\n",
    "df_target.head()"
   ]
  },
  {
   "cell_type": "code",
   "execution_count": 6,
   "metadata": {},
   "outputs": [],
   "source": [
    "MMS_x = MinMaxScaler()\n",
    "MMS_y = MinMaxScaler()\n",
    "\n",
    "df = MMS_x.fit_transform(df.values)\n",
    "df_target = MMS_y.fit_transform(df_target.values)"
   ]
  },
  {
   "cell_type": "code",
   "execution_count": 7,
   "metadata": {},
   "outputs": [
    {
     "data": {
      "text/html": [
       "<div>\n",
       "<style scoped>\n",
       "    .dataframe tbody tr th:only-of-type {\n",
       "        vertical-align: middle;\n",
       "    }\n",
       "\n",
       "    .dataframe tbody tr th {\n",
       "        vertical-align: top;\n",
       "    }\n",
       "\n",
       "    .dataframe thead th {\n",
       "        text-align: right;\n",
       "    }\n",
       "</style>\n",
       "<table border=\"1\" class=\"dataframe\">\n",
       "  <thead>\n",
       "    <tr style=\"text-align: right;\">\n",
       "      <th></th>\n",
       "      <th>open</th>\n",
       "      <th>close</th>\n",
       "      <th>low</th>\n",
       "      <th>high</th>\n",
       "      <th>volume</th>\n",
       "    </tr>\n",
       "  </thead>\n",
       "  <tbody>\n",
       "    <tr>\n",
       "      <th>0</th>\n",
       "      <td>0.152496</td>\n",
       "      <td>0.154555</td>\n",
       "      <td>0.155881</td>\n",
       "      <td>0.151721</td>\n",
       "      <td>0.116422</td>\n",
       "    </tr>\n",
       "    <tr>\n",
       "      <th>1</th>\n",
       "      <td>0.152682</td>\n",
       "      <td>0.152318</td>\n",
       "      <td>0.153673</td>\n",
       "      <td>0.150368</td>\n",
       "      <td>0.188413</td>\n",
       "    </tr>\n",
       "    <tr>\n",
       "      <th>2</th>\n",
       "      <td>0.151615</td>\n",
       "      <td>0.139568</td>\n",
       "      <td>0.141259</td>\n",
       "      <td>0.148763</td>\n",
       "      <td>0.255291</td>\n",
       "    </tr>\n",
       "    <tr>\n",
       "      <th>3</th>\n",
       "      <td>0.138309</td>\n",
       "      <td>0.128090</td>\n",
       "      <td>0.130047</td>\n",
       "      <td>0.135911</td>\n",
       "      <td>0.422522</td>\n",
       "    </tr>\n",
       "    <tr>\n",
       "      <th>4</th>\n",
       "      <td>0.124243</td>\n",
       "      <td>0.134510</td>\n",
       "      <td>0.127152</td>\n",
       "      <td>0.130441</td>\n",
       "      <td>0.306485</td>\n",
       "    </tr>\n",
       "  </tbody>\n",
       "</table>\n",
       "</div>"
      ],
      "text/plain": [
       "       open     close       low      high    volume\n",
       "0  0.152496  0.154555  0.155881  0.151721  0.116422\n",
       "1  0.152682  0.152318  0.153673  0.150368  0.188413\n",
       "2  0.151615  0.139568  0.141259  0.148763  0.255291\n",
       "3  0.138309  0.128090  0.130047  0.135911  0.422522\n",
       "4  0.124243  0.134510  0.127152  0.130441  0.306485"
      ]
     },
     "execution_count": 7,
     "metadata": {},
     "output_type": "execute_result"
    }
   ],
   "source": [
    "df = pd.DataFrame(df, columns = ['open', 'close', 'low', 'high','volume'])\n",
    "\n",
    "df.head()"
   ]
  },
  {
   "cell_type": "code",
   "execution_count": 8,
   "metadata": {},
   "outputs": [
    {
     "data": {
      "text/html": [
       "<div>\n",
       "<style scoped>\n",
       "    .dataframe tbody tr th:only-of-type {\n",
       "        vertical-align: middle;\n",
       "    }\n",
       "\n",
       "    .dataframe tbody tr th {\n",
       "        vertical-align: top;\n",
       "    }\n",
       "\n",
       "    .dataframe thead th {\n",
       "        text-align: right;\n",
       "    }\n",
       "</style>\n",
       "<table border=\"1\" class=\"dataframe\">\n",
       "  <thead>\n",
       "    <tr style=\"text-align: right;\">\n",
       "      <th></th>\n",
       "      <th>close</th>\n",
       "    </tr>\n",
       "  </thead>\n",
       "  <tbody>\n",
       "    <tr>\n",
       "      <th>0</th>\n",
       "      <td>0.154555</td>\n",
       "    </tr>\n",
       "    <tr>\n",
       "      <th>1</th>\n",
       "      <td>0.152318</td>\n",
       "    </tr>\n",
       "    <tr>\n",
       "      <th>2</th>\n",
       "      <td>0.139568</td>\n",
       "    </tr>\n",
       "    <tr>\n",
       "      <th>3</th>\n",
       "      <td>0.128090</td>\n",
       "    </tr>\n",
       "    <tr>\n",
       "      <th>4</th>\n",
       "      <td>0.134510</td>\n",
       "    </tr>\n",
       "  </tbody>\n",
       "</table>\n",
       "</div>"
      ],
      "text/plain": [
       "      close\n",
       "0  0.154555\n",
       "1  0.152318\n",
       "2  0.139568\n",
       "3  0.128090\n",
       "4  0.134510"
      ]
     },
     "execution_count": 8,
     "metadata": {},
     "output_type": "execute_result"
    }
   ],
   "source": [
    "df_target = pd.DataFrame(df_target, columns = ['close'])\n",
    "\n",
    "df_target.head()"
   ]
  },
  {
   "cell_type": "code",
   "execution_count": 9,
   "metadata": {},
   "outputs": [],
   "source": [
    "df.drop('close', axis = 1, inplace = True)"
   ]
  },
  {
   "cell_type": "code",
   "execution_count": 10,
   "metadata": {},
   "outputs": [],
   "source": [
    "df['close'] = df_target.close"
   ]
  },
  {
   "cell_type": "code",
   "execution_count": 45,
   "metadata": {},
   "outputs": [
    {
     "data": {
      "text/html": [
       "<div>\n",
       "<style scoped>\n",
       "    .dataframe tbody tr th:only-of-type {\n",
       "        vertical-align: middle;\n",
       "    }\n",
       "\n",
       "    .dataframe tbody tr th {\n",
       "        vertical-align: top;\n",
       "    }\n",
       "\n",
       "    .dataframe thead th {\n",
       "        text-align: right;\n",
       "    }\n",
       "</style>\n",
       "<table border=\"1\" class=\"dataframe\">\n",
       "  <thead>\n",
       "    <tr style=\"text-align: right;\">\n",
       "      <th></th>\n",
       "      <th>open</th>\n",
       "      <th>low</th>\n",
       "      <th>high</th>\n",
       "      <th>volume</th>\n",
       "      <th>close</th>\n",
       "    </tr>\n",
       "  </thead>\n",
       "  <tbody>\n",
       "    <tr>\n",
       "      <th>0</th>\n",
       "      <td>0.152496</td>\n",
       "      <td>0.155881</td>\n",
       "      <td>0.151721</td>\n",
       "      <td>0.116422</td>\n",
       "      <td>0.154555</td>\n",
       "    </tr>\n",
       "    <tr>\n",
       "      <th>1</th>\n",
       "      <td>0.152682</td>\n",
       "      <td>0.153673</td>\n",
       "      <td>0.150368</td>\n",
       "      <td>0.188413</td>\n",
       "      <td>0.152318</td>\n",
       "    </tr>\n",
       "    <tr>\n",
       "      <th>2</th>\n",
       "      <td>0.151615</td>\n",
       "      <td>0.141259</td>\n",
       "      <td>0.148763</td>\n",
       "      <td>0.255291</td>\n",
       "      <td>0.139568</td>\n",
       "    </tr>\n",
       "    <tr>\n",
       "      <th>3</th>\n",
       "      <td>0.138309</td>\n",
       "      <td>0.130047</td>\n",
       "      <td>0.135911</td>\n",
       "      <td>0.422522</td>\n",
       "      <td>0.128090</td>\n",
       "    </tr>\n",
       "    <tr>\n",
       "      <th>4</th>\n",
       "      <td>0.124243</td>\n",
       "      <td>0.127152</td>\n",
       "      <td>0.130441</td>\n",
       "      <td>0.306485</td>\n",
       "      <td>0.134510</td>\n",
       "    </tr>\n",
       "  </tbody>\n",
       "</table>\n",
       "</div>"
      ],
      "text/plain": [
       "       open       low      high    volume     close\n",
       "0  0.152496  0.155881  0.151721  0.116422  0.154555\n",
       "1  0.152682  0.153673  0.150368  0.188413  0.152318\n",
       "2  0.151615  0.141259  0.148763  0.255291  0.139568\n",
       "3  0.138309  0.130047  0.135911  0.422522  0.128090\n",
       "4  0.124243  0.127152  0.130441  0.306485  0.134510"
      ]
     },
     "execution_count": 45,
     "metadata": {},
     "output_type": "execute_result"
    }
   ],
   "source": [
    "df.head()"
   ]
  },
  {
   "cell_type": "code",
   "execution_count": 61,
   "metadata": {},
   "outputs": [],
   "source": [
    "def make_dataset(df, seq_len, train_size = 0.9):\n",
    "    feature = df.shape[1]\n",
    "    x_value = df.values\n",
    "    sequence_len = seq_len + 1\n",
    "    data = []\n",
    "    \n",
    "    for i in range(len(x_value) - sequence_len):\n",
    "        data.append(x_value[i : i + sequence_len])\n",
    "        \n",
    "    data = np.array(data)\n",
    "    train_split = int(round(train_size * data.shape[0]))\n",
    "    \n",
    "    train_data = data[:train_split]\n",
    "    test_data = data[train_split:]\n",
    "    \n",
    "    x_train = train_data[:, :-1]\n",
    "    y_train = train_data[:, -1][:, -1]\n",
    "    \n",
    "    x_test = test_data[:, :-1]\n",
    "    y_test = test_data[:, -1][:, -1]\n",
    "    \n",
    "    x_train = np.reshape(x_train, (x_train.shape[0], x_train.shape[1], feature))\n",
    "    x_test = np.reshape(x_test, (x_test.shape[0], x_test.shape[1], feature))\n",
    "    \n",
    "    return x_train, y_train, x_test, y_test"
   ]
  },
  {
   "cell_type": "code",
   "execution_count": 62,
   "metadata": {},
   "outputs": [],
   "source": [
    "x_train, y_train, x_test, y_test = make_dataset(df, 24)"
   ]
  },
  {
   "cell_type": "code",
   "execution_count": 63,
   "metadata": {},
   "outputs": [
    {
     "data": {
      "text/plain": [
       "((1563, 24, 5), (1563,), (174, 24, 5), (174,))"
      ]
     },
     "execution_count": 63,
     "metadata": {},
     "output_type": "execute_result"
    }
   ],
   "source": [
    "x_train.shape, y_train.shape, x_test.shape, y_test.shape"
   ]
  },
  {
   "cell_type": "code",
   "execution_count": null,
   "metadata": {},
   "outputs": [],
   "source": [
    "batch_size = 1\n",
    "\n",
    "input_size = x_train.shape[2] \n",
    "\n",
    "output_size = 1"
   ]
  },
  {
   "cell_type": "code",
   "execution_count": 16,
   "metadata": {},
   "outputs": [],
   "source": [
    "x_train = x_train.reshape(x_train.shape[0], \n",
    "                          x_train.shape[1], \n",
    "                          1, \n",
    "                          x_train.shape[2])"
   ]
  },
  {
   "cell_type": "code",
   "execution_count": 17,
   "metadata": {},
   "outputs": [],
   "source": [
    "x_test = x_test.reshape(x_test.shape[0],\n",
    "                        x_test.shape[1],\n",
    "                        1,\n",
    "                        x_test.shape[2])"
   ]
  },
  {
   "cell_type": "code",
   "execution_count": 18,
   "metadata": {},
   "outputs": [],
   "source": [
    "x_test = t.tensor(x_test)\n",
    "y_test = t.tensor(y_test)"
   ]
  },
  {
   "cell_type": "code",
   "execution_count": 19,
   "metadata": {},
   "outputs": [],
   "source": [
    "x_train = t.tensor(x_train)\n",
    "y_train = t.tensor(y_train)"
   ]
  },
  {
   "cell_type": "code",
   "execution_count": 20,
   "metadata": {},
   "outputs": [
    {
     "data": {
      "text/plain": [
       "(torch.Size([1563, 24, 1, 5]), torch.Size([1563]))"
      ]
     },
     "execution_count": 20,
     "metadata": {},
     "output_type": "execute_result"
    }
   ],
   "source": [
    "x_train.shape, y_train.shape"
   ]
  },
  {
   "cell_type": "code",
   "execution_count": 23,
   "metadata": {},
   "outputs": [],
   "source": [
    "class LSTM_Model(nn.Module):\n",
    "    def __init__(self, input_size, output_size, n_hidden, n_layer, batch_size):\n",
    "        \n",
    "        super(LSTM_Model, self).__init__()\n",
    "        self.input_size = input_size\n",
    "        self.output_size = output_size\n",
    "        self.n_hidden = n_hidden\n",
    "        self.n_layer = n_layer\n",
    "        self.batch_size = batch_size\n",
    "        \n",
    "        \n",
    "        self.lstm = nn.LSTM(input_size, n_hidden, n_layer)\n",
    "        \n",
    "        \n",
    "        self.linear = nn.Linear(n_hidden, output_size)\n",
    "        \n",
    "    def forward(self, x, hidden):\n",
    "        output, hidden = self.lstm(x, hidden)\n",
    "        \n",
    "        out = output\n",
    "        \n",
    "        out = out.view(len(x), -1)\n",
    "        \n",
    "        out = self.linear(out)\n",
    "        \n",
    "        return out, hidden\n",
    "    \n",
    "    def init_hidden(self, batch_size):\n",
    "        \n",
    "        weight = next(self.parameters()).data\n",
    "        \n",
    "        hidden = (weight.new(self.n_layer,\n",
    "                             batch_size,\n",
    "                             self.n_hidden).zero_().to(device),\n",
    "                  weight.new(self.n_layer,\n",
    "                             batch_size,\n",
    "                             self.n_hidden).zero_().to(device)\n",
    "                 )\n",
    "        \n",
    "        return hidden"
   ]
  },
  {
   "cell_type": "code",
   "execution_count": 24,
   "metadata": {},
   "outputs": [
    {
     "name": "stdout",
     "output_type": "stream",
     "text": [
      "LSTM_Model(\n",
      "  (lstm): LSTM(5, 128)\n",
      "  (linear): Linear(in_features=128, out_features=1, bias=True)\n",
      ")\n"
     ]
    }
   ],
   "source": [
    "n_hidden = 128\n",
    "n_layer = 1\n",
    "lr = 0.0001\n",
    "\n",
    "model = LSTM_Model(input_size, output_size, n_hidden, n_layer, batch_size)\n",
    "\n",
    "print(model)"
   ]
  },
  {
   "cell_type": "code",
   "execution_count": 25,
   "metadata": {},
   "outputs": [
    {
     "data": {
      "text/plain": [
       "device(type='cuda')"
      ]
     },
     "execution_count": 25,
     "metadata": {},
     "output_type": "execute_result"
    }
   ],
   "source": [
    "optimizer = t.optim.Adam(model.parameters(), lr = lr)\n",
    "cri = nn.MSELoss()\n",
    "device = t.device(\"cuda\" if t.cuda.is_available() else \"cpu\")\n",
    "\n",
    "device"
   ]
  },
  {
   "cell_type": "code",
   "execution_count": 26,
   "metadata": {},
   "outputs": [],
   "source": [
    "model = model.float()\n",
    "x_train = x_train.float()\n",
    "y_train = y_train.float()\n",
    "x_test = x_test.float()\n",
    "y_test = y_test.float()"
   ]
  },
  {
   "cell_type": "code",
   "execution_count": 27,
   "metadata": {},
   "outputs": [],
   "source": [
    "n_epoch = 150"
   ]
  },
  {
   "cell_type": "code",
   "execution_count": 28,
   "metadata": {},
   "outputs": [
    {
     "name": "stdout",
     "output_type": "stream",
     "text": [
      "Epoch: 0/150\n",
      "Training Loss 0.0054\n",
      "Epoch: 10/150\n",
      "Training Loss 0.0044\n",
      "Epoch: 20/150\n",
      "Training Loss 0.0042\n",
      "Epoch: 30/150\n",
      "Training Loss 0.0042\n",
      "Epoch: 40/150\n",
      "Training Loss 0.0040\n",
      "Epoch: 50/150\n",
      "Training Loss 0.0040\n",
      "Epoch: 60/150\n",
      "Training Loss 0.0039\n",
      "Epoch: 70/150\n",
      "Training Loss 0.0038\n",
      "Epoch: 80/150\n",
      "Training Loss 0.0039\n",
      "Epoch: 90/150\n",
      "Training Loss 0.0041\n",
      "Epoch: 100/150\n",
      "Training Loss 0.0040\n",
      "Epoch: 110/150\n",
      "Training Loss 0.0039\n",
      "Epoch: 120/150\n",
      "Training Loss 0.0039\n",
      "Epoch: 130/150\n",
      "Training Loss 0.0039\n",
      "Epoch: 140/150\n",
      "Training Loss 0.0040\n"
     ]
    }
   ],
   "source": [
    "model.train()\n",
    "\n",
    "model = model.to(device)\n",
    "\n",
    "train_loss = []\n",
    "mean_train_loss = []\n",
    "x_train_pred = []\n",
    "\n",
    "for Epoch in range(n_epoch):\n",
    "    hidden_cells = model.init_hidden(batch_size)\n",
    "    \n",
    "    for i in range(len(x_train)):\n",
    "        \n",
    "        hidden_cells = tuple([e.data for e in hidden_cells])\n",
    "        \n",
    "        optimizer.zero_grad()\n",
    "        \n",
    "        x = x_train[i]\n",
    "        y = y_train[i]\n",
    "        x = x.to(device)\n",
    "        y = y.to(device)\n",
    "        \n",
    "        \n",
    "        y_pred, hidden_cells = model(x, hidden_cells)\n",
    "        x_train_pred.append(y_pred)\n",
    "        \n",
    "        loss = cri(y_pred[-1], y.unsqueeze(0))\n",
    "        train_loss.append(loss.item())\n",
    "        loss.backward()\n",
    "        \n",
    "        optimizer.step()\n",
    "        \n",
    "        model.train()\n",
    "        mean_loss = np.mean(train_loss)\n",
    "        mean_train_loss.append(mean_loss)\n",
    "        \n",
    "    if Epoch % 10 == 0:\n",
    "        print('Epoch: {}/{}'.format(Epoch, n_epoch))\n",
    "        print('Training Loss {:.4f}'.format(loss.item()))"
   ]
  },
  {
   "cell_type": "code",
   "execution_count": 29,
   "metadata": {},
   "outputs": [],
   "source": [
    "pred = []\n",
    "model.eval()\n",
    "model = model.to(device)\n",
    "\n",
    "hidden_cells = model.init_hidden(batch_size)\n",
    "for i in range(len(x_test)):\n",
    "    \n",
    "    hidden_cells = tuple([e.data for e in hidden_cells])\n",
    "    \n",
    "    x = x_test[i]\n",
    "    y = y_test[i]\n",
    "    x = x.to(device)\n",
    "    y = y.to(device)\n",
    "    \n",
    "    y_pred, hidden_cells = model(x, hidden_cells)\n",
    "    \n",
    "    pred.append(y_pred[-1].item())"
   ]
  },
  {
   "cell_type": "code",
   "execution_count": 31,
   "metadata": {},
   "outputs": [],
   "source": [
    "actual = MMS_y.inverse_transform(y_test.reshape(-1, 1))"
   ]
  },
  {
   "cell_type": "code",
   "execution_count": 32,
   "metadata": {},
   "outputs": [],
   "source": [
    "pred = MMS_y.inverse_transform(np.array(pred).reshape(-1, 1))"
   ]
  },
  {
   "cell_type": "code",
   "execution_count": 33,
   "metadata": {},
   "outputs": [
    {
     "data": {
      "text/plain": [
       "<matplotlib.legend.Legend at 0x20d4a862fc8>"
      ]
     },
     "execution_count": 33,
     "metadata": {},
     "output_type": "execute_result"
    },
    {
     "data": {
      "image/png": "[encoded data removed]",
      "text/plain": [
       "<Figure size 1080x576 with 1 Axes>"
      ]
     },
     "metadata": {
      "needs_background": "light"
     },
     "output_type": "display_data"
    }
   ],
   "source": [
    "plt.figure(figsize = (15, 8))\n",
    "plt.plot(actual, label = 'True')\n",
    "plt.plot(pred, label = 'Prediction')\n",
    "plt.legend()"
   ]
  },
  {
   "cell_type": "code",
   "execution_count": 86,
   "metadata": {},
   "outputs": [
    {
     "data": {
      "text/plain": [
       "[<matplotlib.lines.Line2D at 0x20de70f95c8>]"
      ]
     },
     "execution_count": 86,
     "metadata": {},
     "output_type": "execute_result"
    },
    {
     "data": {
      "image/png": "[encoded data removed]",
      "text/plain": [
       "<Figure size 1080x576 with 1 Axes>"
      ]
     },
     "metadata": {
      "needs_background": "light"
     },
     "output_type": "display_data"
    }
   ],
   "source": [
    "plt.figure(figsize = (15, 8))\n",
    "plt.plot(train_loss)"
   ]
  },
  {
   "cell_type": "code",
   "execution_count": 87,
   "metadata": {},
   "outputs": [
    {
     "data": {
      "text/plain": [
       "[<matplotlib.lines.Line2D at 0x20de929aa88>]"
      ]
     },
     "execution_count": 87,
     "metadata": {},
     "output_type": "execute_result"
    },
    {
     "data": {
      "image/png": "[encoded data removed]",
      "text/plain": [
       "<Figure size 1080x576 with 1 Axes>"
      ]
     },
     "metadata": {
      "needs_background": "light"
     },
     "output_type": "display_data"
    }
   ],
   "source": [
    "plt.figure(figsize = (15, 8))\n",
    "plt.plot(mean_train_loss)"
   ]
  },
  {
   "cell_type": "code",
   "execution_count": null,
   "metadata": {},
   "outputs": [],
   "source": []
  }
 ],
 "metadata": {
  "kernelspec": {
   "display_name": "Python 3",
   "language": "python",
   "name": "python3"
  },
  "language_info": {
   "codemirror_mode": {
    "name": "ipython",
    "version": 3
   },
   "file_extension": ".py",
   "mimetype": "text/x-python",
   "name": "python",
   "nbconvert_exporter": "python",
   "pygments_lexer": "ipython3",
   "version": "3.7.6"
  }
 },
 "nbformat": 4,
 "nbformat_minor": 5
}
